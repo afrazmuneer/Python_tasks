{
 "cells": [
  {
   "cell_type": "code",
   "execution_count": 1,
   "id": "645b1dae",
   "metadata": {},
   "outputs": [
    {
     "name": "stdout",
     "output_type": "stream",
     "text": [
      "Enter the radius of the circle: 4\n",
      "Area of the circle = 50.24\n"
     ]
    }
   ],
   "source": [
    "PI=3.14\n",
    "r=float(input(\"Enter the radius of the circle: \"))\n",
    "area= PI * r * r\n",
    "print(\"Area of the circle = %.2f\" %area)"
   ]
  },
  {
   "cell_type": "code",
   "execution_count": null,
   "id": "f13a527b",
   "metadata": {},
   "outputs": [],
   "source": []
  }
 ],
 "metadata": {
  "kernelspec": {
   "display_name": "Python 3 (ipykernel)",
   "language": "python",
   "name": "python3"
  },
  "language_info": {
   "codemirror_mode": {
    "name": "ipython",
    "version": 3
   },
   "file_extension": ".py",
   "mimetype": "text/x-python",
   "name": "python",
   "nbconvert_exporter": "python",
   "pygments_lexer": "ipython3",
   "version": "3.9.7"
  }
 },
 "nbformat": 4,
 "nbformat_minor": 5
}
