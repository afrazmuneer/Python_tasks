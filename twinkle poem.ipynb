{
 "cells": [
  {
   "cell_type": "code",
   "execution_count": 25,
   "id": "6026d333",
   "metadata": {},
   "outputs": [
    {
     "name": "stdout",
     "output_type": "stream",
     "text": [
      "Twinkle, twinkle little star\n",
      "       How I wonder what you are!\n",
      "       up above the world so high,\n",
      "       like a diamond in the sky.\n",
      " Twinkle, twinkle little star\n",
      "       How I wonder what you are!\n"
     ]
    }
   ],
   "source": [
    "print(\"Twinkle, twinkle little star\\n       How I wonder what you are!\\n       up above the world so high,\\n       like a diamond in the sky.\\n Twinkle, twinkle little star\\n       How I wonder what you are!\")"
   ]
  },
  {
   "cell_type": "code",
   "execution_count": null,
   "id": "dff94194",
   "metadata": {},
   "outputs": [],
   "source": []
  }
 ],
 "metadata": {
  "kernelspec": {
   "display_name": "Python 3 (ipykernel)",
   "language": "python",
   "name": "python3"
  },
  "language_info": {
   "codemirror_mode": {
    "name": "ipython",
    "version": 3
   },
   "file_extension": ".py",
   "mimetype": "text/x-python",
   "name": "python",
   "nbconvert_exporter": "python",
   "pygments_lexer": "ipython3",
   "version": "3.9.7"
  }
 },
 "nbformat": 4,
 "nbformat_minor": 5
}
